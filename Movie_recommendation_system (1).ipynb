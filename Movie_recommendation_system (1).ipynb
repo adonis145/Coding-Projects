{
  "nbformat": 4,
  "nbformat_minor": 0,
  "metadata": {
    "colab": {
      "provenance": []
    },
    "kernelspec": {
      "name": "python3",
      "display_name": "Python 3"
    },
    "language_info": {
      "name": "python"
    }
  },
  "cells": [
    {
      "cell_type": "code",
      "execution_count": 4,
      "metadata": {
        "colab": {
          "base_uri": "https://localhost:8080/"
        },
        "id": "vAvuYGwfaPnF",
        "outputId": "da8ac04f-57c7-438e-c9e3-c7e9840e2240"
      },
      "outputs": [
        {
          "output_type": "stream",
          "name": "stdout",
          "text": [
            "Please enter your favorite movie: Goodfellas\n",
            "Here's your movie id: tt0099685.\n"
          ]
        }
      ],
      "source": [
        "import requests\n",
        "from bs4 import BeautifulSoup\n",
        "import json\n",
        "import time\n",
        "\n",
        "# Ask the user for their favorite movie\n",
        "movie = input(\"Please enter your favorite movie: \")\n",
        "\n",
        "# Use web scraping to get information about the user's favorite movie from IMDb\n",
        "url = \"https://www.imdb.com/find?q=\" + movie + \"&s=tt\"\n",
        "\n",
        "headers = {'User-Agent': 'Mozilla/5.0'}\n",
        "\n",
        "response = requests.get(url, headers=headers)\n",
        "\n",
        "soup = BeautifulSoup(response.content, \"html.parser\")\n",
        "\n",
        "# Get the movie ID\n",
        "movie_id = soup.findAll('a', class_=\"ipc-metadata-list-summary-item__t\")[0].get('href').split('/')[2]\n",
        "\n",
        "# Print the movie ID\n",
        "print(f\"Here's your movie id: {movie_id}.\")"
      ]
    },
    {
      "cell_type": "code",
      "source": [
        "# API key for The Movie Database (TMDb)\n",
        "API_KEY = 'Insert Your API Here'\n",
        "\n",
        "# Make a request to the TMDb API to get a list of similar movies\n",
        "tmdb_url = f\"https://api.themoviedb.org/3/movie/{movie_id}/similar?api_key={API_KEY}\"\n",
        "response = requests.get(tmdb_url)\n",
        "\n",
        "# Check if the request was successful\n",
        "if response.status_code == 200:\n",
        "    # Parse the JSON response\n",
        "    data = response.json()\n",
        "    \n",
        "    # Get the list of similar movies\n",
        "    similar_movies = data['results']\n",
        "    \n",
        "    # Print out the list of similar movies\n",
        "    print(\"Similar movies:\")\n",
        "    for movie in similar_movies:\n",
        "        print(movie['title'])\n",
        "else:\n",
        "    print(\"Error occurred while accessing the TMDb API.\")"
      ],
      "metadata": {
        "colab": {
          "base_uri": "https://localhost:8080/"
        },
        "id": "59E27LktOM3O",
        "outputId": "2b2bde20-46d4-41e8-98fd-4cf6735e8a5a"
      },
      "execution_count": 11,
      "outputs": [
        {
          "output_type": "stream",
          "name": "stdout",
          "text": [
            "Similar movies:\n",
            "Hells Angels on Wheels\n",
            "Gentleman's Agreement\n",
            "Made Men\n",
            "His Kind of Woman\n",
            "Grand Hotel\n",
            "Iowa\n",
            "Setem\n",
            "Come Blow Your Horn\n",
            "Pressure Point\n",
            "A Kind of Loving\n",
            "Mountains of the Moon\n",
            "Beasts of No Nation\n",
            "The Secret Scripture\n",
            "The Legend of Barney Thomson\n",
            "Galveston\n",
            "Men of Granite\n",
            "Crack Dog\n",
            "Toto Forever\n",
            "Mei Mei\n",
            "Looking for Angelina\n"
          ]
        }
      ]
    }
  ]
}